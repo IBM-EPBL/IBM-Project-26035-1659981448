{
 "cells": [
  {
   "cell_type": "code",
   "execution_count": 5,
   "metadata": {},
   "outputs": [
    {
     "name": "stdout",
     "output_type": "stream",
     "text": [
      "/usr/local/lib/python3.10/dist-packages/pkg_resources/__init__.py:123: PkgResourcesDeprecationWarning: 0.23ubuntu1 is an invalid version and will not be supported in a future release\n",
      "  warnings.warn(\n",
      "/usr/local/lib/python3.10/dist-packages/pkg_resources/__init__.py:123: PkgResourcesDeprecationWarning: 0.1.36ubuntu1 is an invalid version and will not be supported in a future release\n",
      "  warnings.warn(\n",
      "Traceback (most recent call last):\n",
      "  File \"/bin/pip\", line 11, in <module>\n",
      "    load_entry_point('pip==20.0.2', 'console_scripts', 'pip')()\n",
      "  File \"/usr/lib/python3/dist-packages/pip/_internal/cli/main.py\", line 73, in main\n",
      "    command = create_command(cmd_name, isolated=(\"--isolated\" in cmd_args))\n",
      "  File \"/usr/lib/python3/dist-packages/pip/_internal/commands/__init__.py\", line 96, in create_command\n",
      "    module = importlib.import_module(module_path)\n",
      "  File \"/usr/lib/python3.10/importlib/__init__.py\", line 126, in import_module\n",
      "    return _bootstrap._gcd_import(name[level:], package, level)\n",
      "  File \"<frozen importlib._bootstrap>\", line 1050, in _gcd_import\n",
      "  File \"<frozen importlib._bootstrap>\", line 1027, in _find_and_load\n",
      "  File \"<frozen importlib._bootstrap>\", line 1006, in _find_and_load_unlocked\n",
      "  File \"<frozen importlib._bootstrap>\", line 688, in _load_unlocked\n",
      "  File \"<frozen importlib._bootstrap_external>\", line 883, in exec_module\n",
      "  File \"<frozen importlib._bootstrap>\", line 241, in _call_with_frames_removed\n",
      "  File \"/usr/lib/python3/dist-packages/pip/_internal/commands/install.py\", line 24, in <module>\n",
      "    from pip._internal.cli.req_command import RequirementCommand\n",
      "  File \"/usr/lib/python3/dist-packages/pip/_internal/cli/req_command.py\", line 15, in <module>\n",
      "    from pip._internal.index.package_finder import PackageFinder\n",
      "  File \"/usr/lib/python3/dist-packages/pip/_internal/index/package_finder.py\", line 21, in <module>\n",
      "    from pip._internal.index.collector import parse_links\n",
      "  File \"/usr/lib/python3/dist-packages/pip/_internal/index/collector.py\", line 12, in <module>\n",
      "    from pip._vendor import html5lib, requests\n",
      "ImportError: cannot import name 'html5lib' from 'pip._vendor' (/usr/lib/python3/dist-packages/pip/_vendor/__init__.py)\n"
     ]
    }
   ],
   "source": [
    "!pip install tensorflow"
   ]
  },
  {
   "cell_type": "code",
   "execution_count": 6,
   "metadata": {},
   "outputs": [
    {
     "name": "stdout",
     "output_type": "stream",
     "text": [
      "absl-py==1.2.0\n",
      "anyio==3.6.1\n",
      "apturl==0.5.2\n",
      "argon2-cffi==21.3.0\n",
      "argon2-cffi-bindings==21.2.0\n",
      "asttokens==2.0.5\n",
      "astunparse==1.6.3\n",
      "attrs==21.4.0\n",
      "Babel==2.10.3\n",
      "backcall==0.2.0\n",
      "bcrypt==3.1.7\n",
      "beautifulsoup4==4.11.1\n",
      "bleach==5.0.1\n",
      "blinker==1.4\n",
      "Brlapi==0.7.0\n",
      "cachetools==5.2.0\n",
      "certifi==2019.11.28\n",
      "cffi==1.15.1\n",
      "chardet==3.0.4\n",
      "click==8.1.3\n",
      "colorama==0.4.3\n",
      "command-not-found==0.3\n",
      "cryptography==2.8\n",
      "cupshelpers==1.0\n",
      "cycler==0.11.0\n",
      "dbus-python==1.2.16\n",
      "debugpy==1.6.2\n",
      "decorator==5.1.1\n",
      "defer==1.0.6\n",
      "defusedxml==0.7.1\n",
      "distlib==0.3.5\n",
      "distro==1.4.0\n",
      "distro-info===0.23ubuntu1\n",
      "duplicity==0.8.12.0\n",
      "entrypoints==0.3\n",
      "executing==0.8.3\n",
      "fasteners==0.14.1\n",
      "fastjsonschema==2.16.1\n",
      "filelock==3.7.1\n",
      "Flask==2.2.2\n",
      "flatbuffers==22.9.24\n",
      "fonttools==4.34.4\n",
      "future==0.18.2\n",
      "gast==0.4.0\n",
      "google-auth==2.12.0\n",
      "google-auth-oauthlib==0.4.6\n",
      "google-pasta==0.2.0\n",
      "grpcio==1.49.1\n",
      "h5py==3.7.0\n",
      "httplib2==0.14.0\n",
      "idna==2.8\n",
      "idx2numpy==1.2.3\n",
      "ipykernel==6.15.1\n",
      "ipython==8.4.0\n",
      "ipython-genutils==0.2.0\n",
      "itsdangerous==2.1.2\n",
      "jedi==0.18.1\n",
      "Jinja2==3.1.2\n",
      "joblib==1.1.0\n",
      "json5==0.9.8\n",
      "jsonschema==4.7.2\n",
      "jupyter-client==7.3.4\n",
      "jupyter-core==4.11.1\n",
      "jupyter-server==1.18.1\n",
      "jupyterlab==3.4.3\n",
      "jupyterlab-pygments==0.2.2\n",
      "jupyterlab-server==2.15.0\n",
      "keras==2.10.0\n",
      "Keras-Preprocessing==1.1.2\n",
      "keyring==18.0.1\n",
      "kiwisolver==1.4.4\n",
      "language-selector==0.1\n",
      "launchpadlib==1.10.13\n",
      "lazr.restfulclient==0.14.2\n",
      "lazr.uri==1.0.3\n",
      "libclang==14.0.6\n",
      "lockfile==0.12.2\n",
      "louis==3.12.0\n",
      "macaroonbakery==1.3.1\n",
      "Mako==1.1.0\n",
      "Markdown==3.4.1\n",
      "MarkupSafe==2.1.1\n",
      "matplotlib==3.5.3\n",
      "matplotlib-inline==0.1.3\n",
      "mistune==0.8.4\n",
      "monotonic==1.5\n",
      "nbclassic==0.4.3\n",
      "nbclient==0.6.6\n",
      "nbconvert==6.5.0\n",
      "nbformat==5.4.0\n",
      "nest-asyncio==1.5.5\n",
      "netifaces==0.10.4\n",
      "notebook-shim==0.1.0\n",
      "numpy==1.23.1\n",
      "oauthlib==3.1.0\n",
      "olefile==0.46\n",
      "opencv-contrib-python==4.6.0.66\n",
      "opencv-python==4.6.0.66\n",
      "opt-einsum==3.3.0\n",
      "packaging==21.3\n",
      "pandas==1.4.4\n",
      "pandocfilters==1.5.0\n",
      "paramiko==2.6.0\n",
      "parso==0.8.3\n",
      "pexpect==4.6.0\n",
      "pickleshare==0.7.5\n",
      "Pillow==9.2.0\n",
      "platformdirs==2.5.2\n",
      "prometheus-client==0.14.1\n",
      "prompt-toolkit==3.0.30\n",
      "protobuf==3.19.6\n",
      "psutil==5.9.1\n",
      "ptyprocess==0.7.0\n",
      "pure-eval==0.2.2\n",
      "pyasn1==0.4.8\n",
      "pyasn1-modules==0.2.8\n",
      "pycairo==1.16.2\n",
      "pycparser==2.21\n",
      "pycups==1.9.73\n",
      "Pygments==2.12.0\n",
      "PyGObject==3.36.0\n",
      "PyJWT==1.7.1\n",
      "pymacaroons==0.13.0\n",
      "PyNaCl==1.3.0\n",
      "pyparsing==3.0.9\n",
      "PyQt5==5.14.1\n",
      "pyRFC3339==1.1\n",
      "pyrsistent==0.18.1\n",
      "python-apt==2.0.0+ubuntu0.20.4.8\n",
      "python-dateutil==2.8.2\n",
      "python-debian===0.1.36ubuntu1\n",
      "pytz==2022.2.1\n",
      "pyxdg==0.26\n",
      "PyYAML==5.3.1\n",
      "pyzmq==23.2.0\n",
      "reportlab==3.5.34\n",
      "requests==2.22.0\n",
      "requests-oauthlib==1.3.1\n",
      "requests-unixsocket==0.2.0\n",
      "rsa==4.9\n",
      "scikit-learn==1.1.2\n",
      "scipy==1.9.1\n",
      "SecretStorage==2.3.1\n",
      "Send2Trash==1.8.0\n",
      "simplejson==3.16.0\n",
      "sip==4.19.21\n",
      "six==1.14.0\n",
      "sklearn==0.0\n",
      "sniffio==1.2.0\n",
      "soupsieve==2.3.2.post1\n",
      "ssh-import-id==5.10\n",
      "stack-data==0.3.0\n",
      "systemd-python==234\n",
      "tensorboard==2.10.1\n",
      "tensorboard-data-server==0.6.1\n",
      "tensorboard-plugin-wit==1.8.1\n",
      "tensorflow==2.10.0\n",
      "tensorflow-estimator==2.10.0\n",
      "tensorflow-io-gcs-filesystem==0.27.0\n",
      "termcolor==2.0.1\n",
      "terminado==0.15.0\n",
      "threadpoolctl==3.1.0\n",
      "tinycss2==1.1.1\n",
      "tk==0.1.0\n",
      "torch==1.12.1+cpu\n",
      "torchaudio==0.12.1+cpu\n",
      "torchvision==0.13.1+cpu\n",
      "tornado==6.2\n",
      "traitlets==5.3.0\n",
      "typing_extensions==4.3.0\n",
      "ubuntu-advantage-tools==27.10\n",
      "ubuntu-drivers-common==0.0.0\n",
      "ufw==0.36\n",
      "unattended-upgrades==0.1\n",
      "urllib3==1.25.8\n",
      "usb-creator==0.3.7\n",
      "uuid==1.30\n",
      "virtualenv==20.16.2\n",
      "wadllib==1.3.3\n",
      "wcwidth==0.2.5\n",
      "webencodings==0.5.1\n",
      "websocket-client==1.3.3\n",
      "Werkzeug==2.2.2\n",
      "wrapt==1.14.1\n",
      "xkit==0.0.0\n",
      "Note: you may need to restart the kernel to use updated packages.\n"
     ]
    }
   ],
   "source": [
    "pip freeze"
   ]
  },
  {
   "cell_type": "code",
   "execution_count": 46,
   "metadata": {
    "id": "kcQYXruL9foE"
   },
   "outputs": [],
   "source": [
    "import numpy as np\n",
    "import tensorflow\n",
    "from tensorflow.keras.models import Sequential\n",
    "from tensorflow.keras import layers\n",
    "from tensorflow.keras.layers import Dense,Flatten\n",
    "from tensorflow.keras.layers import Conv2D,MaxPooling2D\n",
    "from keras.preprocessing.image import ImageDataGenerator"
   ]
  },
  {
   "cell_type": "code",
   "execution_count": 47,
   "metadata": {
    "id": "HgDG_9bc0lRu"
   },
   "outputs": [],
   "source": [
    "train_datagen=ImageDataGenerator(rescale=1./255,shear_range=0.2,zoom_range=0.2,horizontal_flip=True)\n",
    "test_datagen=ImageDataGenerator(rescale=1./255)"
   ]
  },
  {
   "cell_type": "code",
   "execution_count": 48,
   "metadata": {
    "colab": {
     "base_uri": "https://localhost:8080/"
    },
    "id": "xKsbSnrj0php",
    "outputId": "0188d7f2-9fc4-4c11-f8ac-ec2e8f147b23"
   },
   "outputs": [
    {
     "name": "stdout",
     "output_type": "stream",
     "text": [
      "Found 2626 images belonging to 5 classes.\n",
      "Found 1055 images belonging to 5 classes.\n"
     ]
    }
   ],
   "source": [
    "x_train = train_datagen.flow_from_directory(r'TRAIN_SET',\n",
    "                                            target_size=(64, 64),\n",
    "                                            batch_size=5,\n",
    "                                            color_mode='rgb',\n",
    "                                            class_mode='sparse')\n",
    "\n",
    "x_test = test_datagen.flow_from_directory(r'TEST_SET',\n",
    "                                          target_size=(64, 64),\n",
    "                                          batch_size=5,\n",
    "                                          color_mode='rgb',\n",
    "                                          class_mode='sparse') \n"
   ]
  },
  {
   "cell_type": "code",
   "execution_count": 49,
   "metadata": {
    "colab": {
     "base_uri": "https://localhost:8080/"
    },
    "id": "qzzqgoDEPo9-",
    "outputId": "22c30189-43e0-4661-eae8-4284f101637b"
   },
   "outputs": [
    {
     "name": "stdout",
     "output_type": "stream",
     "text": [
      "{'APPLES': 0, 'BANANA': 1, 'ORANGE': 2, 'PINEAPPLE': 3, 'WATERMELON': 4}\n"
     ]
    }
   ],
   "source": [
    "print(x_train.class_indices)"
   ]
  },
  {
   "cell_type": "code",
   "execution_count": 50,
   "metadata": {},
   "outputs": [
    {
     "data": {
      "text/plain": [
       "Counter({0: 606, 1: 445, 2: 479, 3: 621, 4: 475})"
      ]
     },
     "execution_count": 50,
     "metadata": {},
     "output_type": "execute_result"
    }
   ],
   "source": [
    "from collections import Counter as ct\n",
    "ct(x_train.labels)"
   ]
  },
  {
   "cell_type": "code",
   "execution_count": 51,
   "metadata": {
    "id": "bt7PWKg104pO"
   },
   "outputs": [],
   "source": [
    "classifier=Sequential()"
   ]
  },
  {
   "cell_type": "code",
   "execution_count": 52,
   "metadata": {
    "id": "jdX523q106c2"
   },
   "outputs": [],
   "source": [
    "classifier.add(Conv2D(32,(3,3),input_shape=(64,64,3),activation='relu'))\n",
    "classifier.add(MaxPooling2D(pool_size=(2,2)))\n",
    "\n",
    "classifier.add(Conv2D(32,(3,3),activation='relu'))\n",
    "classifier.add(MaxPooling2D(pool_size=(2,2)))\n",
    "\n",
    "classifier.add(Flatten())\n"
   ]
  },
  {
   "cell_type": "code",
   "execution_count": 53,
   "metadata": {
    "id": "skp6_htUMOdm"
   },
   "outputs": [],
   "source": [
    "classifier.add(Dense(units=128,activation='relu'))\n",
    "classifier.add(Dense(units=5,activation='softmax'))"
   ]
  },
  {
   "cell_type": "code",
   "execution_count": 54,
   "metadata": {
    "colab": {
     "base_uri": "https://localhost:8080/"
    },
    "id": "2RQJ9NaOMOgF",
    "outputId": "e1a966f9-9a83-4052-d748-4ed94f44a8b8",
    "scrolled": true
   },
   "outputs": [
    {
     "name": "stdout",
     "output_type": "stream",
     "text": [
      "Model: \"sequential_5\"\n",
      "_________________________________________________________________\n",
      " Layer (type)                Output Shape              Param #   \n",
      "=================================================================\n",
      " conv2d_8 (Conv2D)           (None, 62, 62, 32)        896       \n",
      "                                                                 \n",
      " max_pooling2d_8 (MaxPooling  (None, 31, 31, 32)       0         \n",
      " 2D)                                                             \n",
      "                                                                 \n",
      " conv2d_9 (Conv2D)           (None, 29, 29, 32)        9248      \n",
      "                                                                 \n",
      " max_pooling2d_9 (MaxPooling  (None, 14, 14, 32)       0         \n",
      " 2D)                                                             \n",
      "                                                                 \n",
      " flatten_4 (Flatten)         (None, 6272)              0         \n",
      "                                                                 \n",
      " dense_8 (Dense)             (None, 128)               802944    \n",
      "                                                                 \n",
      " dense_9 (Dense)             (None, 5)                 645       \n",
      "                                                                 \n",
      "=================================================================\n",
      "Total params: 813,733\n",
      "Trainable params: 813,733\n",
      "Non-trainable params: 0\n",
      "_________________________________________________________________\n"
     ]
    }
   ],
   "source": [
    "classifier.summary()"
   ]
  },
  {
   "cell_type": "code",
   "execution_count": 55,
   "metadata": {
    "id": "hM80BMonMOio"
   },
   "outputs": [],
   "source": [
    "classifier.compile(optimizer='adam',loss='sparse_categorical_crossentropy',metrics=['accuracy'])"
   ]
  },
  {
   "cell_type": "code",
   "execution_count": 56,
   "metadata": {
    "colab": {
     "base_uri": "https://localhost:8080/",
     "height": 1000
    },
    "id": "oxSjvqjKMOlL",
    "outputId": "e26360e8-810a-4bc8-df6d-e5f5c6b880ac"
   },
   "outputs": [
    {
     "name": "stdout",
     "output_type": "stream",
     "text": [
      "Epoch 1/20\n"
     ]
    },
    {
     "name": "stderr",
     "output_type": "stream",
     "text": [
      "/tmp/ipykernel_114941/4012943898.py:1: UserWarning: `Model.fit_generator` is deprecated and will be removed in a future version. Please use `Model.fit`, which supports generators.\n",
      "  classifier.fit_generator(x_train,\n"
     ]
    },
    {
     "name": "stdout",
     "output_type": "stream",
     "text": [
      "526/526 [==============================] - 5s 9ms/step - loss: 0.1562 - accuracy: 0.9455 - val_loss: 0.0384 - val_accuracy: 0.9820\n",
      "Epoch 2/20\n",
      "526/526 [==============================] - 4s 7ms/step - loss: 0.0012 - accuracy: 1.0000 - val_loss: 0.0528 - val_accuracy: 0.9791\n",
      "Epoch 3/20\n",
      "526/526 [==============================] - 6s 11ms/step - loss: 1.7018e-04 - accuracy: 1.0000 - val_loss: 0.0316 - val_accuracy: 0.9801\n",
      "Epoch 4/20\n",
      "526/526 [==============================] - 5s 9ms/step - loss: 1.1498e-04 - accuracy: 1.0000 - val_loss: 0.0199 - val_accuracy: 0.9953\n",
      "Epoch 5/20\n",
      "526/526 [==============================] - 8s 14ms/step - loss: 6.1711e-05 - accuracy: 1.0000 - val_loss: 0.0234 - val_accuracy: 0.9829\n",
      "Epoch 6/20\n",
      "526/526 [==============================] - 8s 15ms/step - loss: 3.1265e-05 - accuracy: 1.0000 - val_loss: 0.0367 - val_accuracy: 0.9801\n",
      "Epoch 7/20\n",
      "526/526 [==============================] - 8s 14ms/step - loss: 1.8764e-05 - accuracy: 1.0000 - val_loss: 0.0320 - val_accuracy: 0.9810\n",
      "Epoch 8/20\n",
      "526/526 [==============================] - 7s 14ms/step - loss: 1.5496e-05 - accuracy: 1.0000 - val_loss: 0.0298 - val_accuracy: 0.9810\n",
      "Epoch 9/20\n",
      "526/526 [==============================] - 8s 14ms/step - loss: 8.6502e-06 - accuracy: 1.0000 - val_loss: 0.0253 - val_accuracy: 0.9829\n",
      "Epoch 10/20\n",
      "526/526 [==============================] - 7s 14ms/step - loss: 8.4784e-06 - accuracy: 1.0000 - val_loss: 0.0205 - val_accuracy: 0.9848\n",
      "Epoch 11/20\n",
      "526/526 [==============================] - 8s 14ms/step - loss: 0.0745 - accuracy: 0.9817 - val_loss: 0.4974 - val_accuracy: 0.7630\n",
      "Epoch 12/20\n",
      "526/526 [==============================] - 8s 14ms/step - loss: 0.0431 - accuracy: 0.9871 - val_loss: 0.0241 - val_accuracy: 0.9924\n",
      "Epoch 13/20\n",
      "526/526 [==============================] - 8s 14ms/step - loss: 1.6750e-04 - accuracy: 1.0000 - val_loss: 0.0305 - val_accuracy: 0.9791\n",
      "Epoch 14/20\n",
      "526/526 [==============================] - 8s 15ms/step - loss: 7.6800e-05 - accuracy: 1.0000 - val_loss: 0.0094 - val_accuracy: 1.0000\n",
      "Epoch 15/20\n",
      "526/526 [==============================] - 8s 15ms/step - loss: 3.6856e-05 - accuracy: 1.0000 - val_loss: 0.0151 - val_accuracy: 0.9924\n",
      "Epoch 16/20\n",
      "526/526 [==============================] - 8s 15ms/step - loss: 2.1933e-05 - accuracy: 1.0000 - val_loss: 0.0159 - val_accuracy: 0.9896\n",
      "Epoch 17/20\n",
      "526/526 [==============================] - 8s 15ms/step - loss: 1.3638e-05 - accuracy: 1.0000 - val_loss: 0.0200 - val_accuracy: 0.9867\n",
      "Epoch 18/20\n",
      "526/526 [==============================] - 8s 15ms/step - loss: 9.5200e-06 - accuracy: 1.0000 - val_loss: 0.0211 - val_accuracy: 0.9848\n",
      "Epoch 19/20\n",
      "526/526 [==============================] - 7s 14ms/step - loss: 5.6362e-06 - accuracy: 1.0000 - val_loss: 0.0219 - val_accuracy: 0.9829\n",
      "Epoch 20/20\n",
      "526/526 [==============================] - 8s 14ms/step - loss: 4.6769e-06 - accuracy: 1.0000 - val_loss: 0.0148 - val_accuracy: 0.9896\n"
     ]
    },
    {
     "data": {
      "text/plain": [
       "<keras.callbacks.History at 0x7fcd027870a0>"
      ]
     },
     "execution_count": 56,
     "metadata": {},
     "output_type": "execute_result"
    }
   ],
   "source": [
    "\n",
    "classifier.fit_generator(x_train,\n",
    "                    steps_per_epoch = len(x_train) , \n",
    "                    epochs = 20, \n",
    "                    validation_data = x_test,\n",
    "                    validation_steps = len(x_test) )"
   ]
  },
  {
   "cell_type": "code",
   "execution_count": 57,
   "metadata": {
    "colab": {
     "base_uri": "https://localhost:8080/",
     "height": 200
    },
    "id": "5Hi3AyTTMOnR",
    "outputId": "e608c5fd-12fa-45ee-dda1-bf94837eb60a"
   },
   "outputs": [],
   "source": [
    "classifier.save('Nutrition-Analysis.h5')\n"
   ]
  },
  {
   "cell_type": "code",
   "execution_count": null,
   "metadata": {},
   "outputs": [],
   "source": []
  }
 ],
 "metadata": {
  "colab": {
   "provenance": []
  },
  "kernelspec": {
   "display_name": "Python 3.10.6 64-bit",
   "language": "python",
   "name": "python3"
  },
  "language_info": {
   "codemirror_mode": {
    "name": "ipython",
    "version": 3
   },
   "file_extension": ".py",
   "mimetype": "text/x-python",
   "name": "python",
   "nbconvert_exporter": "python",
   "pygments_lexer": "ipython3",
   "version": "3.10.6"
  },
  "vscode": {
   "interpreter": {
    "hash": "97cc609b13305c559618ec78a438abc56230b9381f827f22d070313b9a1f3777"
   }
  }
 },
 "nbformat": 4,
 "nbformat_minor": 1
}
