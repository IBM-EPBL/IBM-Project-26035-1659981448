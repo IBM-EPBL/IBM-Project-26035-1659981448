{
 "cells": [
  {
   "cell_type": "code",
   "execution_count": 19,
   "id": "55736ebf",
   "metadata": {
    "scrolled": true
   },
   "outputs": [],
   "source": [
    "# from tensorflow.keras.models import load_model\n",
    "# from keras.preprocessing import image\n",
    "# import numpy as np\n",
    "# # from tensorflow.keras.utils import load_img\n",
    "# import tensorflow as tf\n",
    "\n",
    "# from tensorflow.keras.utils import img_to_array\n",
    "\n",
    "# import keras"
   ]
  },
  {
   "cell_type": "code",
   "execution_count": 31,
   "id": "03f77c85",
   "metadata": {},
   "outputs": [],
   "source": [
    "# from tensorflow.keras.models import load_model\n",
    "# from keras.preprocessing import image\n",
    "# import numpy as np\n",
    "# import tensorflow as tf\n",
    "# import keras"
   ]
  },
  {
   "cell_type": "code",
   "execution_count": 119,
   "id": "ae8d153d",
   "metadata": {},
   "outputs": [],
   "source": [
    "from tensorflow.keras.models import load_model\n",
    "\n",
    "import keras\n",
    "import numpy as np\n",
    "import glob\n",
    "import matplotlib.pyplot as plt"
   ]
  },
  {
   "cell_type": "code",
   "execution_count": 120,
   "id": "7a77dd2a",
   "metadata": {},
   "outputs": [],
   "source": [
    "model=load_model(\"Nutrition-Analysis.h5\")"
   ]
  },
  {
   "cell_type": "code",
   "execution_count": 121,
   "id": "99804a98",
   "metadata": {},
   "outputs": [
    {
     "name": "stdout",
     "output_type": "stream",
     "text": [
      "1/1 [==============================] - 0s 51ms/step\n"
     ]
    },
    {
     "data": {
      "text/plain": [
       "array([[0., 0., 0., 0., 1.]], dtype=float32)"
      ]
     },
     "execution_count": 121,
     "metadata": {},
     "output_type": "execute_result"
    }
   ],
   "source": [
    "img=keras.utils.load_img(r\"test_16.jpg\",grayscale=False,target_size=(64,64))\n",
    "\n",
    "x=keras.utils.img_to_array(img)\n",
    "x=np.expand_dims(x,axis=0)\n",
    "\n",
    "pred=model.predict(x)\n",
    "pred"
   ]
  },
  {
   "cell_type": "code",
   "execution_count": 122,
   "id": "e547f15a",
   "metadata": {},
   "outputs": [
    {
     "data": {
      "text/plain": [
       "4"
      ]
     },
     "execution_count": 122,
     "metadata": {},
     "output_type": "execute_result"
    }
   ],
   "source": [
    "np.argmax(pred)"
   ]
  },
  {
   "cell_type": "code",
   "execution_count": 123,
   "id": "2ef6bd14",
   "metadata": {},
   "outputs": [
    {
     "data": {
      "text/plain": [
       "'WATERMELON'"
      ]
     },
     "execution_count": 123,
     "metadata": {},
     "output_type": "execute_result"
    }
   ],
   "source": [
    "index=[\"APPLES\",\"BANANAS\",\"ORANGE\",\"PINEAPPLE\",\"WATERMELON\"]\n",
    "result=str(index[np.argmax(pred)])\n",
    "result"
   ]
  },
  {
   "cell_type": "code",
   "execution_count": 1,
   "id": "09a9750f",
   "metadata": {},
   "outputs": [
    {
     "name": "stderr",
     "output_type": "stream",
     "text": [
      "41.54s - Error inserting pydevd breaks.\n",
      "Traceback (most recent call last):\n",
      "  File \"/home/local/ZOHOCORP/yuvaraj-pt5649/.local/lib/python3.10/site-packages/debugpy/_vendored/pydevd/_pydevd_frame_eval/pydevd_modify_bytecode.py\", line 328, in insert_pydevd_breaks\n",
      "    for new_instruction in get_instructions_to_add(\n",
      "  File \"/home/local/ZOHOCORP/yuvaraj-pt5649/.local/lib/python3.10/site-packages/debugpy/_vendored/pydevd/_pydevd_frame_eval/pydevd_modify_bytecode.py\", line 102, in get_instructions_to_add\n",
      "    Instr(\"LOAD_CONST\", _pydev_stop_at_break, lineno=stop_at_line - 1),\n",
      "  File \"/home/local/ZOHOCORP/yuvaraj-pt5649/.local/lib/python3.10/site-packages/debugpy/_vendored/pydevd/_pydevd_frame_eval/vendored/bytecode/instr.py\", line 171, in __init__\n",
      "    self._set(name, arg, lineno)\n",
      "  File \"/home/local/ZOHOCORP/yuvaraj-pt5649/.local/lib/python3.10/site-packages/debugpy/_vendored/pydevd/_pydevd_frame_eval/vendored/bytecode/instr.py\", line 239, in _set\n",
      "    _check_lineno(lineno)\n",
      "  File \"/home/local/ZOHOCORP/yuvaraj-pt5649/.local/lib/python3.10/site-packages/debugpy/_vendored/pydevd/_pydevd_frame_eval/vendored/bytecode/instr.py\", line 74, in _check_lineno\n",
      "    raise ValueError(\"invalid lineno\")\n",
      "ValueError: invalid lineno\n"
     ]
    }
   ],
   "source": [
    "fig=plt.figure(figsize=(5,5))\n",
    "count=0\n",
    "testing_imgs=glob.glob(\"*.jpg\")\n",
    "for i in testing_imgs:\n",
    "    count+=1\n",
    "    img=keras.utils.load_img(i,grayscale=False,target_size=(64,64))\n",
    "    \n",
    "\n",
    "    x=keras.utils.img_to_array(img)\n",
    "    x=np.expand_dims(x,axis=0)\n",
    "\n",
    "    pred=model.predict(x)\n",
    "    print(pred)\n",
    "    # plt.imshow(img)\n",
    "    result=str(index[np.argmax(pred)])\n",
    "    print(result)\n",
    "    fig=plt.figure(figsize=(5,5))\n",
    "    plt.title(result)\n",
    "    plt.axis(\"off\")\n",
    "    plt.imshow(img)"
   ]
  },
  {
   "cell_type": "code",
   "execution_count": null,
   "id": "2c5a82bb",
   "metadata": {},
   "outputs": [],
   "source": []
  },
  {
   "cell_type": "code",
   "execution_count": null,
   "id": "ac54c661",
   "metadata": {},
   "outputs": [],
   "source": []
  }
 ],
 "metadata": {
  "kernelspec": {
   "display_name": "Python 3.10.6 64-bit",
   "language": "python",
   "name": "python3"
  },
  "language_info": {
   "codemirror_mode": {
    "name": "ipython",
    "version": 3
   },
   "file_extension": ".py",
   "mimetype": "text/x-python",
   "name": "python",
   "nbconvert_exporter": "python",
   "pygments_lexer": "ipython3",
   "version": "3.10.6"
  },
  "vscode": {
   "interpreter": {
    "hash": "97cc609b13305c559618ec78a438abc56230b9381f827f22d070313b9a1f3777"
   }
  }
 },
 "nbformat": 4,
 "nbformat_minor": 5
}
